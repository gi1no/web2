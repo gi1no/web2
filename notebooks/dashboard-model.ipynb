{
 "cells": [
  {
   "cell_type": "code",
   "execution_count": 1,
   "id": "meaningful-gazette",
   "metadata": {},
   "outputs": [],
   "source": [
    "# Imports\n",
    "import pandas as pd\n",
    "\n",
    "# Dependencies (webapp)\n",
    "from ipywidgets import interact\n",
    "import ipywidgets as widgets\n",
    "from io import BytesIO\n",
    "\n",
    "import matplotlib.pyplot as plt\n",
    "import plotly.express as px"
   ]
  },
  {
   "cell_type": "markdown",
   "id": "comparable-shakespeare",
   "metadata": {},
   "source": [
    "### Upload transactions file \n",
    "Make sure the file has \"amount\" and \"currency\" columns."
   ]
  },
  {
   "cell_type": "code",
   "execution_count": 2,
   "id": "intensive-museum",
   "metadata": {},
   "outputs": [
    {
     "data": {
      "application/vnd.jupyter.widget-view+json": {
       "model_id": "1db67fc302b943c788f40f582578fc61",
       "version_major": 2,
       "version_minor": 0
      },
      "text/plain": [
       "Output()"
      ]
     },
     "metadata": {},
     "output_type": "display_data"
    },
    {
     "data": {
      "application/vnd.jupyter.widget-view+json": {
       "model_id": "b25a2d9ebbc0464abe38edd4f812ceec",
       "version_major": 2,
       "version_minor": 0
      },
      "text/plain": [
       "Output()"
      ]
     },
     "metadata": {},
     "output_type": "display_data"
    }
   ],
   "source": [
    "# Initialize outputs\n",
    "# Upload file and Upload button\n",
    "upload_btn_output = widgets.Output(clear_output=True)\n",
    "display(upload_btn_output)\n",
    "\n",
    "data_process_output = widgets.Output(clear_output=True)\n",
    "display(data_process_output)"
   ]
  },
  {
   "cell_type": "markdown",
   "id": "modular-mississippi",
   "metadata": {},
   "source": [
    "### Filtered Data"
   ]
  },
  {
   "cell_type": "code",
   "execution_count": 3,
   "id": "incredible-terminal",
   "metadata": {},
   "outputs": [
    {
     "data": {
      "application/vnd.jupyter.widget-view+json": {
       "model_id": "f59553dd4c154fcbb5138cc714254db6",
       "version_major": 2,
       "version_minor": 0
      },
      "text/plain": [
       "Output()"
      ]
     },
     "metadata": {},
     "output_type": "display_data"
    },
    {
     "data": {
      "application/vnd.jupyter.widget-view+json": {
       "model_id": "604f1d076e934a5aaa5a8dc96bc487f3",
       "version_major": 2,
       "version_minor": 0
      },
      "text/plain": [
       "Output()"
      ]
     },
     "metadata": {},
     "output_type": "display_data"
    }
   ],
   "source": [
    "#Filter Toggle Output\n",
    "filter_toggle_output = widgets.Output(clear_output=True)\n",
    "display(filter_toggle_output)\n",
    "\n",
    "#Print out filtered\n",
    "data_output = widgets.Output(clear_output=True)\n",
    "display(data_output)"
   ]
  },
  {
   "cell_type": "markdown",
   "id": "large-spectacular",
   "metadata": {},
   "source": [
    "### Bar Chart"
   ]
  },
  {
   "cell_type": "code",
   "execution_count": 4,
   "id": "classified-sixth",
   "metadata": {},
   "outputs": [
    {
     "data": {
      "application/vnd.jupyter.widget-view+json": {
       "model_id": "1f6c956b07d541d3a04b021e27d2f0fa",
       "version_major": 2,
       "version_minor": 0
      },
      "text/plain": [
       "Output()"
      ]
     },
     "metadata": {},
     "output_type": "display_data"
    }
   ],
   "source": [
    "chart_output = widgets.Output()\n",
    "display(chart_output)"
   ]
  },
  {
   "cell_type": "code",
   "execution_count": 5,
   "id": "median-defeat",
   "metadata": {},
   "outputs": [],
   "source": [
    "#Event handler for upload button\n",
    "global data\n",
    "\n",
    "def upload_btn_eventhandler(obj):\n",
    "\n",
    "    #Read file\n",
    "    for file_name in upload_file.value:\n",
    "        \n",
    "        #print(\"file_name is: \", file_name)\n",
    "        \n",
    "        #Split file name to extract data\n",
    "        extension = file_name['name'].split('.')[1]\n",
    "        content = file_name['content']\n",
    "\n",
    "        if(extension == 'xlsx' or extension == 'xls'):\n",
    "            data = pd.read_excel(BytesIO(content))\n",
    "            \n",
    "        elif(extension == 'csv'):\n",
    "            data = pd.read_csv(BytesIO(content))\n",
    "        \n",
    "        else:\n",
    "            print(\"File not accepted\")\n",
    "            \n",
    "        # Get indexes where value is > 1000\n",
    "        data = data[data.amount < 1000]\n",
    "\n",
    "        with data_process_output:\n",
    "            print(f\"Processed a total of {len(data)} transactions.\")\n",
    "            \n",
    "    filter_data(data)\n",
    "    plot_data(data)\n",
    "    \n",
    "    return data\n",
    "\n",
    "# Buttons\n",
    "# Upload\n",
    "upload_file = widgets.FileUpload(multiple=False)\n",
    "upload_btn = widgets.Button(description=\"Upload\", icon='check', button_style='success')\n",
    "upload_btn.on_click(upload_btn_eventhandler)\n",
    "\n",
    "input_widgets = widgets.HBox([upload_file, upload_btn])\n",
    "with upload_btn_output:\n",
    "    display(input_widgets)"
   ]
  },
  {
   "cell_type": "code",
   "execution_count": 6,
   "id": "solar-platform",
   "metadata": {
    "tags": []
   },
   "outputs": [],
   "source": [
    "# Filter - Helper\n",
    "def unique_sorted_values_plus_ALL(array):\n",
    "    unique = array.unique().tolist()\n",
    "    unique = [str(x) for x in unique]\n",
    "    unique.sort()\n",
    "    unique.insert(0, ALL)\n",
    "    return unique\n",
    "\n",
    "# Filtering Pt-1\n",
    "def filter_data(data):\n",
    "    \n",
    "    # Creating Dropdowns and buttons\n",
    "    dropdown_currency = widgets.Dropdown(options=data.currency.unique(), description='Currency:')\n",
    "\n",
    "    # Event handler for dropdowns \n",
    "    def dropdown_currency_eventhandler(change):\n",
    "        common_filtering(data, change.new)\n",
    "    \n",
    "    #Call\n",
    "    dropdown_currency.observe(dropdown_currency_eventhandler, names='value')\n",
    "\n",
    "    #Layout box\n",
    "    input_widgets = widgets.HBox([dropdown_currency])\n",
    "    \n",
    "    with filter_toggle_output:\n",
    "        display(input_widgets)\n",
    "\n",
    "# Filtering Pt-2\n",
    "def common_filtering(data, currency):\n",
    "    \n",
    "    common_filter = data[(data.currency == currency)]\n",
    "        \n",
    "    with data_output:\n",
    "        display(common_filter)\n",
    "    \n",
    "    return common_filter\n",
    "\n",
    "# Bar chart\n",
    "def plot_data(data):\n",
    "    \n",
    "    data['Count'] = 1\n",
    "    plot_data = data[['amount','currency','Count']]\n",
    "    plot_data = plot_data.groupby([\"currency\"],as_index=False).Count.sum()\n",
    "    \n",
    "    with chart_output:\n",
    "        print(\"Total data: \", len(data))\n",
    "        plot_bar(plot_data, x=\"currency\", y=\"Count\", color=\"currency\")\n",
    "\n",
    "# Bar Chart helper\n",
    "def plot_bar(data, x, y, color):\n",
    "\n",
    "    fig = px.bar(data, x, y, color, orientation='v',height=500, width=900)\n",
    "    \n",
    "    fig.update_layout(\n",
    "    plot_bgcolor='white', # clean plot\n",
    "    )\n",
    "    \n",
    "    return fig.show()"
   ]
  }
 ],
 "metadata": {
  "kernelspec": {
   "display_name": "Python 3 (ipykernel)",
   "language": "python",
   "name": "python3"
  },
  "language_info": {
   "codemirror_mode": {
    "name": "ipython",
    "version": 3
   },
   "file_extension": ".py",
   "mimetype": "text/x-python",
   "name": "python",
   "nbconvert_exporter": "python",
   "pygments_lexer": "ipython3",
   "version": "3.11.5"
  }
 },
 "nbformat": 4,
 "nbformat_minor": 5
}
